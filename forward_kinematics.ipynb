{
 "cells": [
  {
   "cell_type": "code",
   "execution_count": 9,
   "metadata": {},
   "outputs": [
    {
     "name": "stdout",
     "output_type": "stream",
     "text": [
      "--2023-10-24 09:03:27--  https://raw.githubusercontent.com/MonashRobotics/fk_workshop/main/plotting.py\n",
      "Resolving raw.githubusercontent.com (raw.githubusercontent.com)... 2606:50c0:8000::154, 2606:50c0:8001::154, 2606:50c0:8002::154, ...\n",
      "Connecting to raw.githubusercontent.com (raw.githubusercontent.com)|2606:50c0:8000::154|:443... connected.\n",
      "HTTP request sent, awaiting response... 200 OK\n",
      "Length: 3970 (3.9K) [text/plain]\n",
      "Saving to: 'plotting.py.1’\n",
      "\n",
      "plotting.py.1       100%[===================>]   3.88K  --.-KB/s    in 0s      \n",
      "\n",
      "2023-10-24 09:03:27 (41.6 MB/s) - 'plotting.py.1’ saved [3970/3970]\n",
      "\n"
     ]
    }
   ],
   "source": [
    "#Ignore this stuff, just click play\n",
    "import os\n",
    "if !os.path.isfile('./plotting.py'):\n",
    "    !wget https://raw.githubusercontent.com/MonashRobotics/fk_workshop/main/plotting.py\n",
    "from plotting import interactive_leg, GaitTrajectory"
   ]
  },
  {
   "cell_type": "markdown",
   "metadata": {},
   "source": [
    "### Forward Kinematics\n",
    "\n",
    "In our first exercise, we will look at how to use trigonometry to find out where our robot dog's feet are, given its hip and knee angles. In robotics, we call this `forward kinematics`. To simplify things, we will assume our dog is flat and that we are looking at it side on. \n",
    "\n",
    "The animation below shows the leg `pose` (position and orientation) as the joint angles around the robot dog's hip and knee are changing.\n",
    "\n",
    "### Task 1\n",
    "* Move the sliders around to see where the robot's feet go for various angles\n",
    "* Try to write down an equation to find out where the knee position $(x_k,y_k)$ is for a given hip angle $\\theta_1$. \n",
    "* Try to write down an equation to find out where the foot position $(x_f,y_f)$ is for a given knee angle $\\theta_2$."
   ]
  },
  {
   "cell_type": "code",
   "execution_count": 6,
   "metadata": {},
   "outputs": [
    {
     "data": {
      "application/vnd.jupyter.widget-view+json": {
       "model_id": "bec5c0bc4f474e8d9a9bd7a57a871ead",
       "version_major": 2,
       "version_minor": 0
      },
      "text/plain": [
       "interactive(children=(FloatSlider(value=-128.85, description='angle1', max=180.0, min=-180.0, step=0.01), Floa…"
      ]
     },
     "metadata": {},
     "output_type": "display_data"
    }
   ],
   "source": [
    "interactive_leg"
   ]
  },
  {
   "cell_type": "markdown",
   "metadata": {},
   "source": [
    "### Gait trajectory planning\n",
    "\n",
    "To make our robot walk, we need to come up with a suitable curve for the foot to repeatedly follow. We're looking for a few things here:\n",
    "* it needs to be periodic or cyclical (start and end at the same place) so we can repeat it over and over.  \n",
    "* it should be smooth to conserve energy\n",
    "* it should only make contact with the ground from one direction to push the robot forward\n",
    "\n",
    "The code below shows an example animation of walking motion as the hip and knee angles cycle through the values in the lists below.\n",
    "\n",
    "### Task 2\n",
    "\n",
    "* Run the code below and move the sliders to follow the leg trajectory\n",
    "* Try to find some YouTube videos or pictures of animal gaits and see if you can change the angles to mimic these (e.g. search for an emu/horse/dog gait)\n",
    "* While you are looking, try to see how different legs move differently for different running gaits (eg. gallop, trot, canter, walk)\n",
    "* Once you have come up with a sensible looking gait, let us know and we will try to run this on the Dingo robot to show you what it looks like.\n",
    "\n",
    "Hint: go back to task 1 to figure out which angles put the leg in positions you want to add to the list."
   ]
  },
  {
   "cell_type": "code",
   "execution_count": 7,
   "metadata": {},
   "outputs": [],
   "source": [
    "# NB: The lengths of these angles should be the same, the code below will warn you if they aren't\n",
    "th_1 = [-160, -150, -140, -130, -120, -100, -90, -80, -70, -60, -50, -40, -50, -60, -70, -80, -90, -100, -110, -120, -130, -140, -150, -160]\n",
    "th_2 = [65, 55, 45, 35, 25, 15, 5, 0, 4, 8, 12, 16, 20, 24, 28, 32, 36, 40, 44, 48, 52, 56, 60, 65]"
   ]
  },
  {
   "cell_type": "markdown",
   "metadata": {},
   "source": [
    "Let's visualise what the gait looks like for this trajectory. The animation below repeats the sequence of angles twice. The trajectory to be followed is plotted in blue. If you click on the timestep slider, you should be able to use the keyboard arrow keys to move back and forth along the traectory."
   ]
  },
  {
   "cell_type": "code",
   "execution_count": 8,
   "metadata": {},
   "outputs": [
    {
     "data": {
      "application/vnd.jupyter.widget-view+json": {
       "model_id": "a8b40f1a77334772b7eb91346cef65d1",
       "version_major": 2,
       "version_minor": 0
      },
      "text/plain": [
       "interactive(children=(IntSlider(value=0, description='timestep', max=47), Output()), _dom_classes=('widget-int…"
      ]
     },
     "metadata": {},
     "output_type": "display_data"
    }
   ],
   "source": [
    "GaitTrajectory(th_1,th_2).get_plot()"
   ]
  },
  {
   "cell_type": "markdown",
   "metadata": {},
   "source": [
    "### Some final notes \n",
    "\n",
    "It's quite tricky to come up with a good set of angles right? In practice,we come up with the foot position curve first, and then solve for the angles that allow this. We call this `inverse kinematics`. Inverse kinematics is much harder than forward kinematics though, because there may be more than one solution to the angles, so we usually introduce other constraints to help us figure this out.\n",
    "\n",
    "It's also important to remember that we've just been doing this for a simple 2D robot leg, but our Dingo Robot actually has 3 motors to control 3 joints, which allows foot placement in 3D. This also allows it to make much more complex motions, but unfortunately makes the maths a bit more challenging to solve using standard trigonometry."
   ]
  }
 ],
 "metadata": {
  "kernelspec": {
   "display_name": "Python 3",
   "language": "python",
   "name": "python3"
  },
  "language_info": {
   "codemirror_mode": {
    "name": "ipython",
    "version": 3
   },
   "file_extension": ".py",
   "mimetype": "text/x-python",
   "name": "python",
   "nbconvert_exporter": "python",
   "pygments_lexer": "ipython3",
   "version": "3.8.10"
  }
 },
 "nbformat": 4,
 "nbformat_minor": 2
}
