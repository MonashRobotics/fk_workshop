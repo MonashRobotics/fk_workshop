{
 "cells": [
  {
   "cell_type": "code",
   "execution_count": 1,
   "metadata": {},
   "outputs": [],
   "source": [
    "from dingo_control.msg import TaskSpace, JointSpace, Angle\n",
    "import numpy as np\n",
    "import rospy\n",
    "from std_msgs.msg import Header"
   ]
  },
  {
   "cell_type": "code",
   "execution_count": 2,
   "metadata": {},
   "outputs": [],
   "source": [
    "class Controller:\n",
    "    \"\"\"Controller and planner object\n",
    "    \"\"\"\n",
    "\n",
    "    def __init__(self):\n",
    "        \n",
    "        self.joint_space_pub = rospy.Publisher('joint_space_cmd', JointSpace, queue_size=10)\n",
    "        rospy.init_node(\"Path_sender\") \n",
    "        \n",
    "    def publish_joint_space_command(self, th1, th2):\n",
    "\n",
    "        joint_space_message = JointSpace()\n",
    "        joint_space_message.FR_foot = Angle(0, th1, th2)\n",
    "        joint_space_message.FL_foot = Angle(0, th1, th2)\n",
    "        joint_space_message.RR_foot = Angle(0, th1, th2)\n",
    "        joint_space_message.RL_foot = Angle(0, th1, th2)\n",
    "        joint_space_message.header = Header(stamp = rospy.Time.now())\n",
    "        self.joint_space_pub.publish(joint_space_message)"
   ]
  },
  {
   "cell_type": "code",
   "execution_count": 3,
   "metadata": {},
   "outputs": [
    {
     "name": "stderr",
     "output_type": "stream",
     "text": [
      "[ERROR] [1699333840.827724]: Unable to immediately register with master node [http://localhost:11311]: master may not be running yet. Will keep trying.\n"
     ]
    }
   ],
   "source": [
    "th_1_list = [-160, -150, -140, -130, -120, -100, -90, -80, -70, -60, -50, -40, -50, -60, -70, -80, -90, -100, -110, -120, -130, -140, -150, -160]\n",
    "th_2_list = [65, 55, 45, 35, 25, 15, 5, 0, 4, 8, 12, 16, 20, 24, 28, 32, 36, 40, 44, 48, 52, 56, 60, 65]\n",
    "\n",
    "controller = Controller()\n",
    "\n",
    "rate = rospy.Rate(5)\n",
    "while not rospy.is_shutdown():\n",
    "    for th1,th2 in zip(th_1_list,th_2_list):\n",
    "        controller.publish_joint_space_command(th1+90,th2)\n",
    "        rate.sleep()    "
   ]
  }
 ],
 "metadata": {
  "kernelspec": {
   "display_name": "Python 3 (ipykernel)",
   "language": "python",
   "name": "python3"
  },
  "language_info": {
   "codemirror_mode": {
    "name": "ipython",
    "version": 3
   },
   "file_extension": ".py",
   "mimetype": "text/x-python",
   "name": "python",
   "nbconvert_exporter": "python",
   "pygments_lexer": "ipython3",
   "version": "3.8.10"
  }
 },
 "nbformat": 4,
 "nbformat_minor": 2
}
